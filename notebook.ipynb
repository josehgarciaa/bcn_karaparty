{
 "cells": [
  {
   "cell_type": "markdown",
   "metadata": {},
   "source": [
    "The requirements are:\n",
    "google-api-python-client google-auth-httplib2 google-auth-oauthlib gspread oauth2client, re, numpy\n",
    "\n",
    "Please do:\n",
    "\n",
    "pip install --upgrade google-api-python-client google-auth-httplib2 google-auth-oauthlib gspread oauth2client, numpy\n",
    "\n",
    "to install them"
   ]
  },
  {
   "cell_type": "code",
   "execution_count": 3,
   "metadata": {},
   "outputs": [
    {
     "name": "stdout",
     "output_type": "stream",
     "text": [
      "Please visit this URL to authorize this application: https://accounts.google.com/o/oauth2/auth?response_type=code&client_id=195848401684-rshqm3h42ijd18qvk9n619snq9nvo7tg.apps.googleusercontent.com&redirect_uri=http%3A%2F%2Flocalhost%3A53005%2F&scope=https%3A%2F%2Fwww.googleapis.com%2Fauth%2Fyoutube.force-ssl&state=ns6AwRHAALHoI73oPREIP7cxQXVq77&access_type=offline\n"
     ]
    }
   ],
   "source": [
    "from lib.youtube_handler import *\n",
    "from lib.gsheet_manager import *\n",
    "import time\n",
    "import random\n",
    "\n",
    "\n",
    "client_secrets_file = \"my_client.json\"  # Path to your client secrets file\n",
    "youtube_manager = YouTubeManager(client_secrets_file)"
   ]
  },
  {
   "cell_type": "code",
   "execution_count": 4,
   "metadata": {},
   "outputs": [],
   "source": [
    "from lib.gsheet_manager import *\n",
    "service_account_file = \"sheet_client.json\"\n",
    "playlist_id = \"PLP641Bf8QxbVdSd3qQGSePIx1HChpmfmQ\"  # Replace with your actual playlist ID\n",
    "\n",
    "auth_users = SheetAuthorizedUsersManager(service_account_file).get_usernames()\n",
    "debug = SheetDebugManager(service_account_file)\n",
    "requests = SheetRequestManager(service_account_file)\n",
    "queue = SheetQueueManager(service_account_file)\n"
   ]
  },
  {
   "cell_type": "code",
   "execution_count": 12,
   "metadata": {},
   "outputs": [
    {
     "name": "stdout",
     "output_type": "stream",
     "text": [
      "All videos have been removed from the playlist.\n"
     ]
    }
   ],
   "source": [
    "youtube_manager.remove_all_videos_from_playlist( playlist_id)"
   ]
  },
  {
   "cell_type": "code",
   "execution_count": 10,
   "metadata": {},
   "outputs": [
    {
     "name": "stdout",
     "output_type": "stream",
     "text": [
      "True owu16UvLqGo\n",
      "Added video to playlist: {'kind': 'youtube#playlistItem', 'etag': '2HlaW6QYfWLp-RxZ2Inty_v5fEk', 'id': 'UExQNjQxQmY4UXhiVmRTZDNxUUdTZVBJeDFIQ2hwbWZtUS5ENjI1QUI0MDI5NEQzODFE', 'snippet': {'publishedAt': '2024-02-02T18:31:14Z', 'channelId': 'UCPUzd2HrXUPQGjt3VYvhwLw', 'title': 'kai interplay2', 'description': '', 'thumbnails': {'default': {'url': 'https://i.ytimg.com/vi/owu16UvLqGo/default.jpg', 'width': 120, 'height': 90}, 'medium': {'url': 'https://i.ytimg.com/vi/owu16UvLqGo/mqdefault.jpg', 'width': 320, 'height': 180}, 'high': {'url': 'https://i.ytimg.com/vi/owu16UvLqGo/hqdefault.jpg', 'width': 480, 'height': 360}, 'standard': {'url': 'https://i.ytimg.com/vi/owu16UvLqGo/sddefault.jpg', 'width': 640, 'height': 480}, 'maxres': {'url': 'https://i.ytimg.com/vi/owu16UvLqGo/maxresdefault.jpg', 'width': 1280, 'height': 720}}, 'channelTitle': 'JoseH', 'playlistId': 'PLP641Bf8QxbVdSd3qQGSePIx1HChpmfmQ', 'position': 0, 'resourceId': {'kind': 'youtube#video', 'videoId': 'owu16UvLqGo'}, 'videoOwnerChannelTitle': 'JoseH', 'videoOwnerChannelId': 'UCPUzd2HrXUPQGjt3VYvhwLw'}}\n",
      "True kKgwQy30R-c\n",
      "Added video to playlist: {'kind': 'youtube#playlistItem', 'etag': 'frjJ9Mi5rrNVv7G0sVgOgONa6Ig', 'id': 'UExQNjQxQmY4UXhiVmRTZDNxUUdTZVBJeDFIQ2hwbWZtUS44QzVGQUU2QjE2NDgxM0M4', 'snippet': {'publishedAt': '2024-02-02T18:31:14Z', 'channelId': 'UCPUzd2HrXUPQGjt3VYvhwLw', 'title': 'Polyphemus - EPIC: The Musical Animatic', 'description': \"Polyphemus - EPIC: The Musical Animatic\\nEPIC: The Musical by Jorge Rivera-Herrans /@JayHerrans /\\n\\nHullo~ Me Polyphemus- Welcome to my cave- I mean, channel. \\nI'm suffering with the keywords again. Nobody knows how to use them... so let's ask Odysseus (awful pun intended)\\n\\nAnd Youtube please don't restrict this, I love sheep, it's Homer's fault... and it's only a drawing...\\n\\n-----------------------------\\n\\nWhat is EPIC: The Musical, you might ask. In a nutshell, EPIC is an adaptation of Homer's The Odyssey written by Jorge Rivera-Herrans and it was inspired by video games and animes. \\n\\nMore fully here:\\nhttps://www.epicthemusical.com/\\n\\nAnd if it had caught your attention, definitely check out Jorge's TikTok and Instagram (and other) sites:\\nJorge's TikTok: https://www.tiktok.com/@jorgeherrans\\n              Instagram: https://www.instagram.com/jayherrans/\\n\\nThe person who sings the lovely Polites is the one and only Steven Dookie:\\nSteven's TikTok: https://www.tiktok.com/@stevendookie?...\\n\\nAs for the voice of our beloved Second In Command Eurylochus, Armando Julián: \\nArmando's Instagram: https://www.instagram.com/elnegroficialpr/\\n\\nAlso, once you are on these platforms, would you check mine as well? You might find something you like :D\\n             Instagram: https://www.instagram.com/_mircsy_/\\n             TikTok: https://www.tiktok.com/@_mircsy_\\n\\n-----------------------------\\n\\n\\nLyrics written by Jorge Rivera-Herrans\\n\\nOver here\\n\\nLook at all this food!\\nLook at all these sheep!\\nI can't believe this cave has all this for us to keep!\\n\\nI've gotta hand it to you both\\nThis is quite the treat\\nThere are enough sheep here to\\nFeed the entire fleet\\n\\nIt's almost too perfect\\nToo good to be true\\nWhy would the lotus eaters pass up on all this food?\\n\\nWho are you?\\n\\nHey there!\\n\\nWe're just travelers\\nWe come in peace\\n\\nYou killed my sheep\\nMy favorite sheep\\nWhat gives you the right to deal a pain so deep?\\nDon't you know that pain you sow is pain you reap?\\nTime to drink your blood over where you stand\\nYour life now is in my hand\\nBefore I'm done\\nYou will learn that it's not so fun to take\\nYou came to my home to steal\\nBut now you'll become my meal\\nA trade you see?\\nTake from you, like you took from me\\n\\nThere's been a misunderstanding\\nWe never came here to steal\\nBut now that I see we've done some damage\\nMaybe you and I can make a deal\\nI'll give you our finest treasure\\nSo long as we leave alive\\nYou can keep the world's best tasting wine\\n\\nWine?\\n\\nHave a drink!\\nOne sip and you'll understand\\nThe power that's in your hands\\nA wine so fresh\\nYou'd never wanna eat human flesh again\\nThen we shall be on our way\\nNo bloodshed in here today\\nA trade you see?\\nA gift from you and a gift from me\\n\\nAhh\\nI'd like to thank you\\nStranger, what's your name?\\n\\nMy name is Nobody, Nobody, Nobody\\n\\nNobody\\nFor your gift I've one to reply\\n\\nI'm so glad we see eye to eye\\n\\nYes\\nYou shall be the final man to die\\n\\nWhat\\n\\nWatch out!\\n\\n\\nStay safe and remember not to steal a random cyclops' pets. \\n*SPINS OUT\\n\\n-----------------------------------\\nPrograms and Tools:\\nPaintTool SAI 2 (for pics)\\nHitFilm Express (for editing)\\nWacom Cintiq 16 digital tablet (for drawing)\", 'thumbnails': {'default': {'url': 'https://i.ytimg.com/vi/kKgwQy30R-c/default.jpg', 'width': 120, 'height': 90}, 'medium': {'url': 'https://i.ytimg.com/vi/kKgwQy30R-c/mqdefault.jpg', 'width': 320, 'height': 180}, 'high': {'url': 'https://i.ytimg.com/vi/kKgwQy30R-c/hqdefault.jpg', 'width': 480, 'height': 360}, 'standard': {'url': 'https://i.ytimg.com/vi/kKgwQy30R-c/sddefault.jpg', 'width': 640, 'height': 480}, 'maxres': {'url': 'https://i.ytimg.com/vi/kKgwQy30R-c/maxresdefault.jpg', 'width': 1280, 'height': 720}}, 'channelTitle': 'JoseH', 'playlistId': 'PLP641Bf8QxbVdSd3qQGSePIx1HChpmfmQ', 'position': 0, 'resourceId': {'kind': 'youtube#video', 'videoId': 'kKgwQy30R-c'}, 'videoOwnerChannelTitle': 'mircsy -mɪrtʃi-', 'videoOwnerChannelId': 'UCViuciWwKTjiZNzuNIgtUFg'}}\n",
      "True owu16UvLqGo\n",
      "Added video to playlist: {'kind': 'youtube#playlistItem', 'etag': '06a-7IBePYweXHGoE7XPVOGzUlc', 'id': 'UExQNjQxQmY4UXhiVmRTZDNxUUdTZVBJeDFIQ2hwbWZtUS4xMzgwMzBERjQ4NjEzNUE5', 'snippet': {'publishedAt': '2024-02-02T18:31:16Z', 'channelId': 'UCPUzd2HrXUPQGjt3VYvhwLw', 'title': 'kai interplay2', 'description': '', 'thumbnails': {'default': {'url': 'https://i.ytimg.com/vi/owu16UvLqGo/default.jpg', 'width': 120, 'height': 90}, 'medium': {'url': 'https://i.ytimg.com/vi/owu16UvLqGo/mqdefault.jpg', 'width': 320, 'height': 180}, 'high': {'url': 'https://i.ytimg.com/vi/owu16UvLqGo/hqdefault.jpg', 'width': 480, 'height': 360}, 'standard': {'url': 'https://i.ytimg.com/vi/owu16UvLqGo/sddefault.jpg', 'width': 640, 'height': 480}, 'maxres': {'url': 'https://i.ytimg.com/vi/owu16UvLqGo/maxresdefault.jpg', 'width': 1280, 'height': 720}}, 'channelTitle': 'JoseH', 'playlistId': 'PLP641Bf8QxbVdSd3qQGSePIx1HChpmfmQ', 'position': 0, 'resourceId': {'kind': 'youtube#video', 'videoId': 'owu16UvLqGo'}, 'videoOwnerChannelTitle': 'JoseH', 'videoOwnerChannelId': 'UCPUzd2HrXUPQGjt3VYvhwLw'}}\n",
      "True kKgwQy30R-c\n",
      "Added video to playlist: {'kind': 'youtube#playlistItem', 'etag': 'cRFVa3IY05gLlu3HvnqrMJ73tNc', 'id': 'UExQNjQxQmY4UXhiVmRTZDNxUUdTZVBJeDFIQ2hwbWZtUS4zMEQ1MEIyRTFGNzhDQzFB', 'snippet': {'publishedAt': '2024-02-02T18:31:16Z', 'channelId': 'UCPUzd2HrXUPQGjt3VYvhwLw', 'title': 'Polyphemus - EPIC: The Musical Animatic', 'description': \"Polyphemus - EPIC: The Musical Animatic\\nEPIC: The Musical by Jorge Rivera-Herrans /@JayHerrans /\\n\\nHullo~ Me Polyphemus- Welcome to my cave- I mean, channel. \\nI'm suffering with the keywords again. Nobody knows how to use them... so let's ask Odysseus (awful pun intended)\\n\\nAnd Youtube please don't restrict this, I love sheep, it's Homer's fault... and it's only a drawing...\\n\\n-----------------------------\\n\\nWhat is EPIC: The Musical, you might ask. In a nutshell, EPIC is an adaptation of Homer's The Odyssey written by Jorge Rivera-Herrans and it was inspired by video games and animes. \\n\\nMore fully here:\\nhttps://www.epicthemusical.com/\\n\\nAnd if it had caught your attention, definitely check out Jorge's TikTok and Instagram (and other) sites:\\nJorge's TikTok: https://www.tiktok.com/@jorgeherrans\\n              Instagram: https://www.instagram.com/jayherrans/\\n\\nThe person who sings the lovely Polites is the one and only Steven Dookie:\\nSteven's TikTok: https://www.tiktok.com/@stevendookie?...\\n\\nAs for the voice of our beloved Second In Command Eurylochus, Armando Julián: \\nArmando's Instagram: https://www.instagram.com/elnegroficialpr/\\n\\nAlso, once you are on these platforms, would you check mine as well? You might find something you like :D\\n             Instagram: https://www.instagram.com/_mircsy_/\\n             TikTok: https://www.tiktok.com/@_mircsy_\\n\\n-----------------------------\\n\\n\\nLyrics written by Jorge Rivera-Herrans\\n\\nOver here\\n\\nLook at all this food!\\nLook at all these sheep!\\nI can't believe this cave has all this for us to keep!\\n\\nI've gotta hand it to you both\\nThis is quite the treat\\nThere are enough sheep here to\\nFeed the entire fleet\\n\\nIt's almost too perfect\\nToo good to be true\\nWhy would the lotus eaters pass up on all this food?\\n\\nWho are you?\\n\\nHey there!\\n\\nWe're just travelers\\nWe come in peace\\n\\nYou killed my sheep\\nMy favorite sheep\\nWhat gives you the right to deal a pain so deep?\\nDon't you know that pain you sow is pain you reap?\\nTime to drink your blood over where you stand\\nYour life now is in my hand\\nBefore I'm done\\nYou will learn that it's not so fun to take\\nYou came to my home to steal\\nBut now you'll become my meal\\nA trade you see?\\nTake from you, like you took from me\\n\\nThere's been a misunderstanding\\nWe never came here to steal\\nBut now that I see we've done some damage\\nMaybe you and I can make a deal\\nI'll give you our finest treasure\\nSo long as we leave alive\\nYou can keep the world's best tasting wine\\n\\nWine?\\n\\nHave a drink!\\nOne sip and you'll understand\\nThe power that's in your hands\\nA wine so fresh\\nYou'd never wanna eat human flesh again\\nThen we shall be on our way\\nNo bloodshed in here today\\nA trade you see?\\nA gift from you and a gift from me\\n\\nAhh\\nI'd like to thank you\\nStranger, what's your name?\\n\\nMy name is Nobody, Nobody, Nobody\\n\\nNobody\\nFor your gift I've one to reply\\n\\nI'm so glad we see eye to eye\\n\\nYes\\nYou shall be the final man to die\\n\\nWhat\\n\\nWatch out!\\n\\n\\nStay safe and remember not to steal a random cyclops' pets. \\n*SPINS OUT\\n\\n-----------------------------------\\nPrograms and Tools:\\nPaintTool SAI 2 (for pics)\\nHitFilm Express (for editing)\\nWacom Cintiq 16 digital tablet (for drawing)\", 'thumbnails': {'default': {'url': 'https://i.ytimg.com/vi/kKgwQy30R-c/default.jpg', 'width': 120, 'height': 90}, 'medium': {'url': 'https://i.ytimg.com/vi/kKgwQy30R-c/mqdefault.jpg', 'width': 320, 'height': 180}, 'high': {'url': 'https://i.ytimg.com/vi/kKgwQy30R-c/hqdefault.jpg', 'width': 480, 'height': 360}, 'standard': {'url': 'https://i.ytimg.com/vi/kKgwQy30R-c/sddefault.jpg', 'width': 640, 'height': 480}, 'maxres': {'url': 'https://i.ytimg.com/vi/kKgwQy30R-c/maxresdefault.jpg', 'width': 1280, 'height': 720}}, 'channelTitle': 'JoseH', 'playlistId': 'PLP641Bf8QxbVdSd3qQGSePIx1HChpmfmQ', 'position': 0, 'resourceId': {'kind': 'youtube#video', 'videoId': 'kKgwQy30R-c'}, 'videoOwnerChannelTitle': 'mircsy -mɪrtʃi-', 'videoOwnerChannelId': 'UCViuciWwKTjiZNzuNIgtUFg'}}\n",
      "True lNgH9b4xq0c\n",
      "Added video to playlist: {'kind': 'youtube#playlistItem', 'etag': 'Sq39b8qpzF81zPo1vPMt9XEsMm4', 'id': 'UExQNjQxQmY4UXhiVmRTZDNxUUdTZVBJeDFIQ2hwbWZtUS42Qzk5MkEzQjVFQjYwRDA4', 'snippet': {'publishedAt': '2024-02-02T18:31:17Z', 'channelId': 'UCPUzd2HrXUPQGjt3VYvhwLw', 'title': 'kai interplay2 1', 'description': '', 'thumbnails': {'default': {'url': 'https://i.ytimg.com/vi/lNgH9b4xq0c/default.jpg', 'width': 120, 'height': 90}, 'medium': {'url': 'https://i.ytimg.com/vi/lNgH9b4xq0c/mqdefault.jpg', 'width': 320, 'height': 180}, 'high': {'url': 'https://i.ytimg.com/vi/lNgH9b4xq0c/hqdefault.jpg', 'width': 480, 'height': 360}, 'standard': {'url': 'https://i.ytimg.com/vi/lNgH9b4xq0c/sddefault.jpg', 'width': 640, 'height': 480}, 'maxres': {'url': 'https://i.ytimg.com/vi/lNgH9b4xq0c/maxresdefault.jpg', 'width': 1280, 'height': 720}}, 'channelTitle': 'JoseH', 'playlistId': 'PLP641Bf8QxbVdSd3qQGSePIx1HChpmfmQ', 'position': 0, 'resourceId': {'kind': 'youtube#video', 'videoId': 'lNgH9b4xq0c'}, 'videoOwnerChannelTitle': 'JoseH', 'videoOwnerChannelId': 'UCPUzd2HrXUPQGjt3VYvhwLw'}}\n",
      "True kKgwQy30R-c\n",
      "Added video to playlist: {'kind': 'youtube#playlistItem', 'etag': 'JOG-GWHS-blaotAzI3Sw1DItoGc', 'id': 'UExQNjQxQmY4UXhiVmRTZDNxUUdTZVBJeDFIQ2hwbWZtUS41NTZEOThBNThFOUVGQkVB', 'snippet': {'publishedAt': '2024-02-02T18:31:17Z', 'channelId': 'UCPUzd2HrXUPQGjt3VYvhwLw', 'title': 'Polyphemus - EPIC: The Musical Animatic', 'description': \"Polyphemus - EPIC: The Musical Animatic\\nEPIC: The Musical by Jorge Rivera-Herrans /@JayHerrans /\\n\\nHullo~ Me Polyphemus- Welcome to my cave- I mean, channel. \\nI'm suffering with the keywords again. Nobody knows how to use them... so let's ask Odysseus (awful pun intended)\\n\\nAnd Youtube please don't restrict this, I love sheep, it's Homer's fault... and it's only a drawing...\\n\\n-----------------------------\\n\\nWhat is EPIC: The Musical, you might ask. In a nutshell, EPIC is an adaptation of Homer's The Odyssey written by Jorge Rivera-Herrans and it was inspired by video games and animes. \\n\\nMore fully here:\\nhttps://www.epicthemusical.com/\\n\\nAnd if it had caught your attention, definitely check out Jorge's TikTok and Instagram (and other) sites:\\nJorge's TikTok: https://www.tiktok.com/@jorgeherrans\\n              Instagram: https://www.instagram.com/jayherrans/\\n\\nThe person who sings the lovely Polites is the one and only Steven Dookie:\\nSteven's TikTok: https://www.tiktok.com/@stevendookie?...\\n\\nAs for the voice of our beloved Second In Command Eurylochus, Armando Julián: \\nArmando's Instagram: https://www.instagram.com/elnegroficialpr/\\n\\nAlso, once you are on these platforms, would you check mine as well? You might find something you like :D\\n             Instagram: https://www.instagram.com/_mircsy_/\\n             TikTok: https://www.tiktok.com/@_mircsy_\\n\\n-----------------------------\\n\\n\\nLyrics written by Jorge Rivera-Herrans\\n\\nOver here\\n\\nLook at all this food!\\nLook at all these sheep!\\nI can't believe this cave has all this for us to keep!\\n\\nI've gotta hand it to you both\\nThis is quite the treat\\nThere are enough sheep here to\\nFeed the entire fleet\\n\\nIt's almost too perfect\\nToo good to be true\\nWhy would the lotus eaters pass up on all this food?\\n\\nWho are you?\\n\\nHey there!\\n\\nWe're just travelers\\nWe come in peace\\n\\nYou killed my sheep\\nMy favorite sheep\\nWhat gives you the right to deal a pain so deep?\\nDon't you know that pain you sow is pain you reap?\\nTime to drink your blood over where you stand\\nYour life now is in my hand\\nBefore I'm done\\nYou will learn that it's not so fun to take\\nYou came to my home to steal\\nBut now you'll become my meal\\nA trade you see?\\nTake from you, like you took from me\\n\\nThere's been a misunderstanding\\nWe never came here to steal\\nBut now that I see we've done some damage\\nMaybe you and I can make a deal\\nI'll give you our finest treasure\\nSo long as we leave alive\\nYou can keep the world's best tasting wine\\n\\nWine?\\n\\nHave a drink!\\nOne sip and you'll understand\\nThe power that's in your hands\\nA wine so fresh\\nYou'd never wanna eat human flesh again\\nThen we shall be on our way\\nNo bloodshed in here today\\nA trade you see?\\nA gift from you and a gift from me\\n\\nAhh\\nI'd like to thank you\\nStranger, what's your name?\\n\\nMy name is Nobody, Nobody, Nobody\\n\\nNobody\\nFor your gift I've one to reply\\n\\nI'm so glad we see eye to eye\\n\\nYes\\nYou shall be the final man to die\\n\\nWhat\\n\\nWatch out!\\n\\n\\nStay safe and remember not to steal a random cyclops' pets. \\n*SPINS OUT\\n\\n-----------------------------------\\nPrograms and Tools:\\nPaintTool SAI 2 (for pics)\\nHitFilm Express (for editing)\\nWacom Cintiq 16 digital tablet (for drawing)\", 'thumbnails': {'default': {'url': 'https://i.ytimg.com/vi/kKgwQy30R-c/default.jpg', 'width': 120, 'height': 90}, 'medium': {'url': 'https://i.ytimg.com/vi/kKgwQy30R-c/mqdefault.jpg', 'width': 320, 'height': 180}, 'high': {'url': 'https://i.ytimg.com/vi/kKgwQy30R-c/hqdefault.jpg', 'width': 480, 'height': 360}, 'standard': {'url': 'https://i.ytimg.com/vi/kKgwQy30R-c/sddefault.jpg', 'width': 640, 'height': 480}, 'maxres': {'url': 'https://i.ytimg.com/vi/kKgwQy30R-c/maxresdefault.jpg', 'width': 1280, 'height': 720}}, 'channelTitle': 'JoseH', 'playlistId': 'PLP641Bf8QxbVdSd3qQGSePIx1HChpmfmQ', 'position': 0, 'resourceId': {'kind': 'youtube#video', 'videoId': 'kKgwQy30R-c'}, 'videoOwnerChannelTitle': 'mircsy -mɪrtʃi-', 'videoOwnerChannelId': 'UCViuciWwKTjiZNzuNIgtUFg'}}\n",
      "True lNgH9b4xq0c\n",
      "Added video to playlist: {'kind': 'youtube#playlistItem', 'etag': 'EEF5cebFSVFm1VFOK1BisM-FlQs', 'id': 'UExQNjQxQmY4UXhiVmRTZDNxUUdTZVBJeDFIQ2hwbWZtUS43NERCMDIzQzFBMERCMEE3', 'snippet': {'publishedAt': '2024-02-02T18:31:19Z', 'channelId': 'UCPUzd2HrXUPQGjt3VYvhwLw', 'title': 'kai interplay2 1', 'description': '', 'thumbnails': {'default': {'url': 'https://i.ytimg.com/vi/lNgH9b4xq0c/default.jpg', 'width': 120, 'height': 90}, 'medium': {'url': 'https://i.ytimg.com/vi/lNgH9b4xq0c/mqdefault.jpg', 'width': 320, 'height': 180}, 'high': {'url': 'https://i.ytimg.com/vi/lNgH9b4xq0c/hqdefault.jpg', 'width': 480, 'height': 360}, 'standard': {'url': 'https://i.ytimg.com/vi/lNgH9b4xq0c/sddefault.jpg', 'width': 640, 'height': 480}, 'maxres': {'url': 'https://i.ytimg.com/vi/lNgH9b4xq0c/maxresdefault.jpg', 'width': 1280, 'height': 720}}, 'channelTitle': 'JoseH', 'playlistId': 'PLP641Bf8QxbVdSd3qQGSePIx1HChpmfmQ', 'position': 0, 'resourceId': {'kind': 'youtube#video', 'videoId': 'lNgH9b4xq0c'}, 'videoOwnerChannelTitle': 'JoseH', 'videoOwnerChannelId': 'UCPUzd2HrXUPQGjt3VYvhwLw'}}\n",
      "True kKgwQy30R-c\n",
      "Added video to playlist: {'kind': 'youtube#playlistItem', 'etag': 'Zm_8i5O-lkEErHtR0s7rvEYKM2A', 'id': 'UExQNjQxQmY4UXhiVmRTZDNxUUdTZVBJeDFIQ2hwbWZtUS5GNjAwN0Y0QTFGOTVDMEMy', 'snippet': {'publishedAt': '2024-02-02T18:31:19Z', 'channelId': 'UCPUzd2HrXUPQGjt3VYvhwLw', 'title': 'Polyphemus - EPIC: The Musical Animatic', 'description': \"Polyphemus - EPIC: The Musical Animatic\\nEPIC: The Musical by Jorge Rivera-Herrans /@JayHerrans /\\n\\nHullo~ Me Polyphemus- Welcome to my cave- I mean, channel. \\nI'm suffering with the keywords again. Nobody knows how to use them... so let's ask Odysseus (awful pun intended)\\n\\nAnd Youtube please don't restrict this, I love sheep, it's Homer's fault... and it's only a drawing...\\n\\n-----------------------------\\n\\nWhat is EPIC: The Musical, you might ask. In a nutshell, EPIC is an adaptation of Homer's The Odyssey written by Jorge Rivera-Herrans and it was inspired by video games and animes. \\n\\nMore fully here:\\nhttps://www.epicthemusical.com/\\n\\nAnd if it had caught your attention, definitely check out Jorge's TikTok and Instagram (and other) sites:\\nJorge's TikTok: https://www.tiktok.com/@jorgeherrans\\n              Instagram: https://www.instagram.com/jayherrans/\\n\\nThe person who sings the lovely Polites is the one and only Steven Dookie:\\nSteven's TikTok: https://www.tiktok.com/@stevendookie?...\\n\\nAs for the voice of our beloved Second In Command Eurylochus, Armando Julián: \\nArmando's Instagram: https://www.instagram.com/elnegroficialpr/\\n\\nAlso, once you are on these platforms, would you check mine as well? You might find something you like :D\\n             Instagram: https://www.instagram.com/_mircsy_/\\n             TikTok: https://www.tiktok.com/@_mircsy_\\n\\n-----------------------------\\n\\n\\nLyrics written by Jorge Rivera-Herrans\\n\\nOver here\\n\\nLook at all this food!\\nLook at all these sheep!\\nI can't believe this cave has all this for us to keep!\\n\\nI've gotta hand it to you both\\nThis is quite the treat\\nThere are enough sheep here to\\nFeed the entire fleet\\n\\nIt's almost too perfect\\nToo good to be true\\nWhy would the lotus eaters pass up on all this food?\\n\\nWho are you?\\n\\nHey there!\\n\\nWe're just travelers\\nWe come in peace\\n\\nYou killed my sheep\\nMy favorite sheep\\nWhat gives you the right to deal a pain so deep?\\nDon't you know that pain you sow is pain you reap?\\nTime to drink your blood over where you stand\\nYour life now is in my hand\\nBefore I'm done\\nYou will learn that it's not so fun to take\\nYou came to my home to steal\\nBut now you'll become my meal\\nA trade you see?\\nTake from you, like you took from me\\n\\nThere's been a misunderstanding\\nWe never came here to steal\\nBut now that I see we've done some damage\\nMaybe you and I can make a deal\\nI'll give you our finest treasure\\nSo long as we leave alive\\nYou can keep the world's best tasting wine\\n\\nWine?\\n\\nHave a drink!\\nOne sip and you'll understand\\nThe power that's in your hands\\nA wine so fresh\\nYou'd never wanna eat human flesh again\\nThen we shall be on our way\\nNo bloodshed in here today\\nA trade you see?\\nA gift from you and a gift from me\\n\\nAhh\\nI'd like to thank you\\nStranger, what's your name?\\n\\nMy name is Nobody, Nobody, Nobody\\n\\nNobody\\nFor your gift I've one to reply\\n\\nI'm so glad we see eye to eye\\n\\nYes\\nYou shall be the final man to die\\n\\nWhat\\n\\nWatch out!\\n\\n\\nStay safe and remember not to steal a random cyclops' pets. \\n*SPINS OUT\\n\\n-----------------------------------\\nPrograms and Tools:\\nPaintTool SAI 2 (for pics)\\nHitFilm Express (for editing)\\nWacom Cintiq 16 digital tablet (for drawing)\", 'thumbnails': {'default': {'url': 'https://i.ytimg.com/vi/kKgwQy30R-c/default.jpg', 'width': 120, 'height': 90}, 'medium': {'url': 'https://i.ytimg.com/vi/kKgwQy30R-c/mqdefault.jpg', 'width': 320, 'height': 180}, 'high': {'url': 'https://i.ytimg.com/vi/kKgwQy30R-c/hqdefault.jpg', 'width': 480, 'height': 360}, 'standard': {'url': 'https://i.ytimg.com/vi/kKgwQy30R-c/sddefault.jpg', 'width': 640, 'height': 480}, 'maxres': {'url': 'https://i.ytimg.com/vi/kKgwQy30R-c/maxresdefault.jpg', 'width': 1280, 'height': 720}}, 'channelTitle': 'JoseH', 'playlistId': 'PLP641Bf8QxbVdSd3qQGSePIx1HChpmfmQ', 'position': 0, 'resourceId': {'kind': 'youtube#video', 'videoId': 'kKgwQy30R-c'}, 'videoOwnerChannelTitle': 'mircsy -mɪrtʃi-', 'videoOwnerChannelId': 'UCViuciWwKTjiZNzuNIgtUFg'}}\n"
     ]
    }
   ],
   "source": [
    "youtude_interplay = [\"https://www.youtube.com/watch?v=owu16UvLqGo\",\n",
    "                     \"https://www.youtube.com/watch?v=n8IiMSXqIAo\",\n",
    "                     \"https://www.youtube.com/watch?v=lNgH9b4xq0c\" ]\n",
    "\n",
    "while True:\n",
    "    records = requests.read_records();\n",
    "    if len(records)>0:\n",
    "        for record in requests.read_records():\n",
    "            #Validate user\n",
    "            current_user = str(record['Canta']).lower()\n",
    "            if current_user in auth_users: #We validate proper user\n",
    "                current_link = record['Link de Youtube']\n",
    "                if youtube_manager.is_valid_youtube_link(current_link):\n",
    "                    send_youtube =True                        \n",
    "                    try:\n",
    "                        queue.add_record(list(record.values()))\n",
    "                    except:\n",
    "                        debug.add_record(list(record.values()))\n",
    "                        send_youtube =False                        \n",
    "                    if send_youtube:\n",
    "                        choice= random.randint(0,2)\n",
    "                        youtube_manager.add_video_to_playlist(youtude_interplay[choice], playlist_id)\n",
    "                        youtube_manager.add_video_to_playlist(current_link, playlist_id)                    \n",
    "                else:\n",
    "                    debug.add_record(list(record.values()))            \n",
    "            else:\n",
    "                debug.add_record(list(record.values()))\n",
    "        requests.delete_all_records()\n",
    "    time.sleep(10) # Sleep for 3 seconds\n"
   ]
  }
 ],
 "metadata": {
  "kernelspec": {
   "display_name": "Python 3",
   "language": "python",
   "name": "python3"
  },
  "language_info": {
   "codemirror_mode": {
    "name": "ipython",
    "version": 3
   },
   "file_extension": ".py",
   "mimetype": "text/x-python",
   "name": "python",
   "nbconvert_exporter": "python",
   "pygments_lexer": "ipython3",
   "version": "3.11.5"
  }
 },
 "nbformat": 4,
 "nbformat_minor": 2
}
