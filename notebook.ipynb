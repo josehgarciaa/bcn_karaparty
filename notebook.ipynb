{
 "cells": [
  {
   "cell_type": "markdown",
   "metadata": {},
   "source": [
    "The requirements are:\n",
    "google-api-python-client google-auth-httplib2 google-auth-oauthlib gspread oauth2client, re, numpy\n",
    "\n",
    "Please do:\n",
    "\n",
    "pip install --upgrade google-api-python-client google-auth-httplib2 google-auth-oauthlib gspread  numpy\n",
    "\n",
    "to install them"
   ]
  },
  {
   "cell_type": "code",
   "execution_count": 1,
   "metadata": {},
   "outputs": [
    {
     "name": "stdout",
     "output_type": "stream",
     "text": [
      "Requirement already satisfied: google-api-python-client in c:\\users\\adame\\documents\\bcn_karaparty\\.conda\\lib\\site-packages (2.116.0)\n",
      "Requirement already satisfied: google-auth-httplib2 in c:\\users\\adame\\documents\\bcn_karaparty\\.conda\\lib\\site-packages (0.2.0)\n",
      "Requirement already satisfied: google-auth-oauthlib in c:\\users\\adame\\documents\\bcn_karaparty\\.conda\\lib\\site-packages (1.2.0)\n",
      "Requirement already satisfied: gspread in c:\\users\\adame\\documents\\bcn_karaparty\\.conda\\lib\\site-packages (6.0.0)\n",
      "Requirement already satisfied: oauth2client in c:\\users\\adame\\documents\\bcn_karaparty\\.conda\\lib\\site-packages (4.1.3)\n",
      "Requirement already satisfied: numpy in c:\\users\\adame\\documents\\bcn_karaparty\\.conda\\lib\\site-packages (1.26.3)\n",
      "Requirement already satisfied: httplib2<1.dev0,>=0.15.0 in c:\\users\\adame\\documents\\bcn_karaparty\\.conda\\lib\\site-packages (from google-api-python-client) (0.22.0)\n",
      "Requirement already satisfied: google-auth<3.0.0.dev0,>=1.19.0 in c:\\users\\adame\\documents\\bcn_karaparty\\.conda\\lib\\site-packages (from google-api-python-client) (2.27.0)\n",
      "Requirement already satisfied: google-api-core!=2.0.*,!=2.1.*,!=2.2.*,!=2.3.0,<3.0.0.dev0,>=1.31.5 in c:\\users\\adame\\documents\\bcn_karaparty\\.conda\\lib\\site-packages (from google-api-python-client) (2.16.2)\n",
      "Requirement already satisfied: uritemplate<5,>=3.0.1 in c:\\users\\adame\\documents\\bcn_karaparty\\.conda\\lib\\site-packages (from google-api-python-client) (4.1.1)\n",
      "Requirement already satisfied: requests-oauthlib>=0.7.0 in c:\\users\\adame\\documents\\bcn_karaparty\\.conda\\lib\\site-packages (from google-auth-oauthlib) (1.3.1)\n",
      "Requirement already satisfied: StrEnum==0.4.15 in c:\\users\\adame\\documents\\bcn_karaparty\\.conda\\lib\\site-packages (from gspread) (0.4.15)\n",
      "Requirement already satisfied: pyasn1>=0.1.7 in c:\\users\\adame\\documents\\bcn_karaparty\\.conda\\lib\\site-packages (from oauth2client) (0.5.1)\n",
      "Requirement already satisfied: pyasn1-modules>=0.0.5 in c:\\users\\adame\\documents\\bcn_karaparty\\.conda\\lib\\site-packages (from oauth2client) (0.3.0)\n",
      "Requirement already satisfied: rsa>=3.1.4 in c:\\users\\adame\\documents\\bcn_karaparty\\.conda\\lib\\site-packages (from oauth2client) (4.9)\n",
      "Requirement already satisfied: six>=1.6.1 in c:\\users\\adame\\documents\\bcn_karaparty\\.conda\\lib\\site-packages (from oauth2client) (1.16.0)\n",
      "Requirement already satisfied: googleapis-common-protos<2.0.dev0,>=1.56.2 in c:\\users\\adame\\documents\\bcn_karaparty\\.conda\\lib\\site-packages (from google-api-core!=2.0.*,!=2.1.*,!=2.2.*,!=2.3.0,<3.0.0.dev0,>=1.31.5->google-api-python-client) (1.62.0)\n",
      "Requirement already satisfied: protobuf!=3.20.0,!=3.20.1,!=4.21.0,!=4.21.1,!=4.21.2,!=4.21.3,!=4.21.4,!=4.21.5,<5.0.0.dev0,>=3.19.5 in c:\\users\\adame\\documents\\bcn_karaparty\\.conda\\lib\\site-packages (from google-api-core!=2.0.*,!=2.1.*,!=2.2.*,!=2.3.0,<3.0.0.dev0,>=1.31.5->google-api-python-client) (4.25.2)\n",
      "Requirement already satisfied: requests<3.0.0.dev0,>=2.18.0 in c:\\users\\adame\\documents\\bcn_karaparty\\.conda\\lib\\site-packages (from google-api-core!=2.0.*,!=2.1.*,!=2.2.*,!=2.3.0,<3.0.0.dev0,>=1.31.5->google-api-python-client) (2.31.0)\n",
      "Requirement already satisfied: cachetools<6.0,>=2.0.0 in c:\\users\\adame\\documents\\bcn_karaparty\\.conda\\lib\\site-packages (from google-auth<3.0.0.dev0,>=1.19.0->google-api-python-client) (5.3.2)\n",
      "Requirement already satisfied: pyparsing!=3.0.0,!=3.0.1,!=3.0.2,!=3.0.3,<4,>=2.4.2 in c:\\users\\adame\\documents\\bcn_karaparty\\.conda\\lib\\site-packages (from httplib2<1.dev0,>=0.15.0->google-api-python-client) (3.1.1)\n",
      "Requirement already satisfied: oauthlib>=3.0.0 in c:\\users\\adame\\documents\\bcn_karaparty\\.conda\\lib\\site-packages (from requests-oauthlib>=0.7.0->google-auth-oauthlib) (3.2.2)\n",
      "Requirement already satisfied: charset-normalizer<4,>=2 in c:\\users\\adame\\documents\\bcn_karaparty\\.conda\\lib\\site-packages (from requests<3.0.0.dev0,>=2.18.0->google-api-core!=2.0.*,!=2.1.*,!=2.2.*,!=2.3.0,<3.0.0.dev0,>=1.31.5->google-api-python-client) (3.3.2)\n",
      "Requirement already satisfied: idna<4,>=2.5 in c:\\users\\adame\\documents\\bcn_karaparty\\.conda\\lib\\site-packages (from requests<3.0.0.dev0,>=2.18.0->google-api-core!=2.0.*,!=2.1.*,!=2.2.*,!=2.3.0,<3.0.0.dev0,>=1.31.5->google-api-python-client) (3.6)\n",
      "Requirement already satisfied: urllib3<3,>=1.21.1 in c:\\users\\adame\\documents\\bcn_karaparty\\.conda\\lib\\site-packages (from requests<3.0.0.dev0,>=2.18.0->google-api-core!=2.0.*,!=2.1.*,!=2.2.*,!=2.3.0,<3.0.0.dev0,>=1.31.5->google-api-python-client) (2.2.0)\n",
      "Requirement already satisfied: certifi>=2017.4.17 in c:\\users\\adame\\documents\\bcn_karaparty\\.conda\\lib\\site-packages (from requests<3.0.0.dev0,>=2.18.0->google-api-core!=2.0.*,!=2.1.*,!=2.2.*,!=2.3.0,<3.0.0.dev0,>=1.31.5->google-api-python-client) (2024.2.2)\n"
     ]
    }
   ],
   "source": [
    "!pip install --upgrade google-api-python-client google-auth-httplib2 google-auth-oauthlib gspread oauth2client numpy\n"
   ]
  },
  {
   "cell_type": "code",
   "execution_count": 2,
   "metadata": {},
   "outputs": [
    {
     "name": "stdout",
     "output_type": "stream",
     "text": [
      "Please visit this URL to authorize this application: https://accounts.google.com/o/oauth2/auth?response_type=code&client_id=195848401684-rshqm3h42ijd18qvk9n619snq9nvo7tg.apps.googleusercontent.com&redirect_uri=http%3A%2F%2Flocalhost%3A54824%2F&scope=https%3A%2F%2Fwww.googleapis.com%2Fauth%2Fyoutube.force-ssl&state=b0r3ZU98xE9ZO8K9YSjoRFLZt7OkEM&access_type=offline\n"
     ]
    }
   ],
   "source": [
    "from lib.youtube_handler import *\n",
    "from lib.gsheet_manager import *\n",
    "import time\n",
    "import random\n",
    "\n",
    "client_secrets_file = \"my_client.json\"  # Path to your client secrets file\n",
    "youtube_manager = YouTubeManager(client_secrets_file)"
   ]
  },
  {
   "cell_type": "code",
   "execution_count": 3,
   "metadata": {},
   "outputs": [],
   "source": [
    "from lib.gsheet_manager import *\n",
    "service_account_file = \"sheet_client.json\"\n",
    "playlist_id = \"PLP641Bf8QxbVdSd3qQGSePIx1HChpmfmQ\"  # Replace with your actual playlist ID\n",
    "debug = SheetDebugManager(service_account_file)\n",
    "requests = SheetRequestManager(service_account_file)\n",
    "queue = SheetQueueManager(service_account_file)"
   ]
  },
  {
   "cell_type": "code",
   "execution_count": 4,
   "metadata": {},
   "outputs": [
    {
     "name": "stdout",
     "output_type": "stream",
     "text": [
      "All videos have been removed from the playlist.\n"
     ]
    }
   ],
   "source": [
    "youtube_manager.remove_all_videos_from_playlist( playlist_id)"
   ]
  },
  {
   "cell_type": "code",
   "execution_count": 5,
   "metadata": {},
   "outputs": [
    {
     "name": "stdout",
     "output_type": "stream",
     "text": [
      "['4/02/2024 19:22:29', 'Miriam', 'Kimetsu no Yaiba', 'Zankyou Sanka', 'https://youtu.be/GT4WNcEbHGk?si=RG8JxA1xGjEfaI7N']\n",
      "Added video to playlist: {'kind': 'youtube#playlistItem', 'etag': '6OE5SKtomYa4BmqS9Z2AsPrSw6A', 'id': 'UExQNjQxQmY4UXhiVmRTZDNxUUdTZVBJeDFIQ2hwbWZtUS41NkI0NEY2RDEwNTU3Q0M2', 'snippet': {'publishedAt': '2024-02-04T18:52:12Z', 'channelId': 'UCPUzd2HrXUPQGjt3VYvhwLw', 'title': 'kai interplay2 1', 'description': '', 'thumbnails': {'default': {'url': 'https://i.ytimg.com/vi/lNgH9b4xq0c/default.jpg', 'width': 120, 'height': 90}, 'medium': {'url': 'https://i.ytimg.com/vi/lNgH9b4xq0c/mqdefault.jpg', 'width': 320, 'height': 180}, 'high': {'url': 'https://i.ytimg.com/vi/lNgH9b4xq0c/hqdefault.jpg', 'width': 480, 'height': 360}, 'standard': {'url': 'https://i.ytimg.com/vi/lNgH9b4xq0c/sddefault.jpg', 'width': 640, 'height': 480}, 'maxres': {'url': 'https://i.ytimg.com/vi/lNgH9b4xq0c/maxresdefault.jpg', 'width': 1280, 'height': 720}}, 'channelTitle': 'JoseH', 'playlistId': 'PLP641Bf8QxbVdSd3qQGSePIx1HChpmfmQ', 'position': 0, 'resourceId': {'kind': 'youtube#video', 'videoId': 'lNgH9b4xq0c'}, 'videoOwnerChannelTitle': 'JoseH', 'videoOwnerChannelId': 'UCPUzd2HrXUPQGjt3VYvhwLw'}}\n",
      "['4/02/2024 19:40:04', 'Miriam', 'Vicco', 'Noche ochentera ', 'https://youtu.be/JquPpfYn7Uw?si=caS3z6_p5eGLvbIi']\n",
      "Added video to playlist: {'kind': 'youtube#playlistItem', 'etag': 'LvttZGEswUi7pWJt1rLoYH6H9MA', 'id': 'UExQNjQxQmY4UXhiVmRTZDNxUUdTZVBJeDFIQ2hwbWZtUS4yODlGNEE0NkRGMEEzMEQy', 'snippet': {'publishedAt': '2024-02-04T18:52:13Z', 'channelId': 'UCPUzd2HrXUPQGjt3VYvhwLw', 'title': 'kai interplay2 1', 'description': '', 'thumbnails': {'default': {'url': 'https://i.ytimg.com/vi/lNgH9b4xq0c/default.jpg', 'width': 120, 'height': 90}, 'medium': {'url': 'https://i.ytimg.com/vi/lNgH9b4xq0c/mqdefault.jpg', 'width': 320, 'height': 180}, 'high': {'url': 'https://i.ytimg.com/vi/lNgH9b4xq0c/hqdefault.jpg', 'width': 480, 'height': 360}, 'standard': {'url': 'https://i.ytimg.com/vi/lNgH9b4xq0c/sddefault.jpg', 'width': 640, 'height': 480}, 'maxres': {'url': 'https://i.ytimg.com/vi/lNgH9b4xq0c/maxresdefault.jpg', 'width': 1280, 'height': 720}}, 'channelTitle': 'JoseH', 'playlistId': 'PLP641Bf8QxbVdSd3qQGSePIx1HChpmfmQ', 'position': 0, 'resourceId': {'kind': 'youtube#video', 'videoId': 'lNgH9b4xq0c'}, 'videoOwnerChannelTitle': 'JoseH', 'videoOwnerChannelId': 'UCPUzd2HrXUPQGjt3VYvhwLw'}}\n",
      "['4/02/2024 19:40:04', 'Miriam', 'Vicco', 'Noche ochentera ', 'https://youtu.be/JquPpfYn7Uw?si=caS3z6_p5eGLvbIi']\n",
      "Added video to playlist: {'kind': 'youtube#playlistItem', 'etag': 'iHDAi7_AxD4JtxS58XZUJ8TYMXU', 'id': 'UExQNjQxQmY4UXhiVmRTZDNxUUdTZVBJeDFIQ2hwbWZtUS4wMTcyMDhGQUE4NTIzM0Y5', 'snippet': {'publishedAt': '2024-02-04T18:52:14Z', 'channelId': 'UCPUzd2HrXUPQGjt3VYvhwLw', 'title': 'kai interplay3', 'description': '', 'thumbnails': {'default': {'url': 'https://i.ytimg.com/vi/n8IiMSXqIAo/default.jpg', 'width': 120, 'height': 90}, 'medium': {'url': 'https://i.ytimg.com/vi/n8IiMSXqIAo/mqdefault.jpg', 'width': 320, 'height': 180}, 'high': {'url': 'https://i.ytimg.com/vi/n8IiMSXqIAo/hqdefault.jpg', 'width': 480, 'height': 360}, 'standard': {'url': 'https://i.ytimg.com/vi/n8IiMSXqIAo/sddefault.jpg', 'width': 640, 'height': 480}, 'maxres': {'url': 'https://i.ytimg.com/vi/n8IiMSXqIAo/maxresdefault.jpg', 'width': 1280, 'height': 720}}, 'channelTitle': 'JoseH', 'playlistId': 'PLP641Bf8QxbVdSd3qQGSePIx1HChpmfmQ', 'position': 0, 'resourceId': {'kind': 'youtube#video', 'videoId': 'n8IiMSXqIAo'}, 'videoOwnerChannelTitle': 'JoseH', 'videoOwnerChannelId': 'UCPUzd2HrXUPQGjt3VYvhwLw'}}\n",
      "['4/02/2024 19:40:04', 'Miriam', 'Vicco', 'Noche ochentera ', 'https://youtu.be/JquPpfYn7Uw?si=caS3z6_p5eGLvbIi']\n",
      "Added video to playlist: {'kind': 'youtube#playlistItem', 'etag': 'Z6IkNFuw7eR5aa1xqZWIee2-XhM', 'id': 'UExQNjQxQmY4UXhiVmRTZDNxUUdTZVBJeDFIQ2hwbWZtUS41MjE1MkI0OTQ2QzJGNzNG', 'snippet': {'publishedAt': '2024-02-04T18:52:15Z', 'channelId': 'UCPUzd2HrXUPQGjt3VYvhwLw', 'title': 'kai interplay2', 'description': '', 'thumbnails': {'default': {'url': 'https://i.ytimg.com/vi/owu16UvLqGo/default.jpg', 'width': 120, 'height': 90}, 'medium': {'url': 'https://i.ytimg.com/vi/owu16UvLqGo/mqdefault.jpg', 'width': 320, 'height': 180}, 'high': {'url': 'https://i.ytimg.com/vi/owu16UvLqGo/hqdefault.jpg', 'width': 480, 'height': 360}, 'standard': {'url': 'https://i.ytimg.com/vi/owu16UvLqGo/sddefault.jpg', 'width': 640, 'height': 480}, 'maxres': {'url': 'https://i.ytimg.com/vi/owu16UvLqGo/maxresdefault.jpg', 'width': 1280, 'height': 720}}, 'channelTitle': 'JoseH', 'playlistId': 'PLP641Bf8QxbVdSd3qQGSePIx1HChpmfmQ', 'position': 0, 'resourceId': {'kind': 'youtube#video', 'videoId': 'owu16UvLqGo'}, 'videoOwnerChannelTitle': 'JoseH', 'videoOwnerChannelId': 'UCPUzd2HrXUPQGjt3VYvhwLw'}}\n",
      "['4/02/2024 19:40:04', 'Miriam', 'Vicco', 'Noche ochentera ', 'https://youtu.be/JquPpfYn7Uw?si=caS3z6_p5eGLvbIi']\n",
      "Added video to playlist: {'kind': 'youtube#playlistItem', 'etag': 'jZIGETZql7a8M4-UOxlYhF-CKP8', 'id': 'UExQNjQxQmY4UXhiVmRTZDNxUUdTZVBJeDFIQ2hwbWZtUS4wOTA3OTZBNzVEMTUzOTMy', 'snippet': {'publishedAt': '2024-02-04T18:52:16Z', 'channelId': 'UCPUzd2HrXUPQGjt3VYvhwLw', 'title': 'kai interplay2', 'description': '', 'thumbnails': {'default': {'url': 'https://i.ytimg.com/vi/owu16UvLqGo/default.jpg', 'width': 120, 'height': 90}, 'medium': {'url': 'https://i.ytimg.com/vi/owu16UvLqGo/mqdefault.jpg', 'width': 320, 'height': 180}, 'high': {'url': 'https://i.ytimg.com/vi/owu16UvLqGo/hqdefault.jpg', 'width': 480, 'height': 360}, 'standard': {'url': 'https://i.ytimg.com/vi/owu16UvLqGo/sddefault.jpg', 'width': 640, 'height': 480}, 'maxres': {'url': 'https://i.ytimg.com/vi/owu16UvLqGo/maxresdefault.jpg', 'width': 1280, 'height': 720}}, 'channelTitle': 'JoseH', 'playlistId': 'PLP641Bf8QxbVdSd3qQGSePIx1HChpmfmQ', 'position': 0, 'resourceId': {'kind': 'youtube#video', 'videoId': 'owu16UvLqGo'}, 'videoOwnerChannelTitle': 'JoseH', 'videoOwnerChannelId': 'UCPUzd2HrXUPQGjt3VYvhwLw'}}\n",
      "['4/02/2024 19:40:04', 'Miriam', 'Vicco', 'Noche ochentera ', 'https://youtu.be/JquPpfYn7Uw?si=caS3z6_p5eGLvbIi']\n",
      "Added video to playlist: {'kind': 'youtube#playlistItem', 'etag': '04r8Pq9A8uWUcUChqCr8gA03NQc', 'id': 'UExQNjQxQmY4UXhiVmRTZDNxUUdTZVBJeDFIQ2hwbWZtUS4xMkVGQjNCMUM1N0RFNEUx', 'snippet': {'publishedAt': '2024-02-04T18:52:17Z', 'channelId': 'UCPUzd2HrXUPQGjt3VYvhwLw', 'title': 'kai interplay3', 'description': '', 'thumbnails': {'default': {'url': 'https://i.ytimg.com/vi/n8IiMSXqIAo/default.jpg', 'width': 120, 'height': 90}, 'medium': {'url': 'https://i.ytimg.com/vi/n8IiMSXqIAo/mqdefault.jpg', 'width': 320, 'height': 180}, 'high': {'url': 'https://i.ytimg.com/vi/n8IiMSXqIAo/hqdefault.jpg', 'width': 480, 'height': 360}, 'standard': {'url': 'https://i.ytimg.com/vi/n8IiMSXqIAo/sddefault.jpg', 'width': 640, 'height': 480}, 'maxres': {'url': 'https://i.ytimg.com/vi/n8IiMSXqIAo/maxresdefault.jpg', 'width': 1280, 'height': 720}}, 'channelTitle': 'JoseH', 'playlistId': 'PLP641Bf8QxbVdSd3qQGSePIx1HChpmfmQ', 'position': 0, 'resourceId': {'kind': 'youtube#video', 'videoId': 'n8IiMSXqIAo'}, 'videoOwnerChannelTitle': 'JoseH', 'videoOwnerChannelId': 'UCPUzd2HrXUPQGjt3VYvhwLw'}}\n",
      "['4/02/2024 19:40:04', 'Miriam', 'Vicco', 'Noche ochentera ', 'https://youtu.be/JquPpfYn7Uw?si=caS3z6_p5eGLvbIi']\n",
      "Added video to playlist: {'kind': 'youtube#playlistItem', 'etag': 'Eig9lElqhpcYz2VAW2MGDegTD6M', 'id': 'UExQNjQxQmY4UXhiVmRTZDNxUUdTZVBJeDFIQ2hwbWZtUS41MzJCQjBCNDIyRkJDN0VD', 'snippet': {'publishedAt': '2024-02-04T18:52:18Z', 'channelId': 'UCPUzd2HrXUPQGjt3VYvhwLw', 'title': 'kai interplay3', 'description': '', 'thumbnails': {'default': {'url': 'https://i.ytimg.com/vi/n8IiMSXqIAo/default.jpg', 'width': 120, 'height': 90}, 'medium': {'url': 'https://i.ytimg.com/vi/n8IiMSXqIAo/mqdefault.jpg', 'width': 320, 'height': 180}, 'high': {'url': 'https://i.ytimg.com/vi/n8IiMSXqIAo/hqdefault.jpg', 'width': 480, 'height': 360}, 'standard': {'url': 'https://i.ytimg.com/vi/n8IiMSXqIAo/sddefault.jpg', 'width': 640, 'height': 480}, 'maxres': {'url': 'https://i.ytimg.com/vi/n8IiMSXqIAo/maxresdefault.jpg', 'width': 1280, 'height': 720}}, 'channelTitle': 'JoseH', 'playlistId': 'PLP641Bf8QxbVdSd3qQGSePIx1HChpmfmQ', 'position': 0, 'resourceId': {'kind': 'youtube#video', 'videoId': 'n8IiMSXqIAo'}, 'videoOwnerChannelTitle': 'JoseH', 'videoOwnerChannelId': 'UCPUzd2HrXUPQGjt3VYvhwLw'}}\n",
      "['4/02/2024 19:37:43', 'Miriam', 'Cancion', 'Noche ochentera ', 'https://youtu.be/JquPpfYn7Uw?si=caS3z6_p5eGLvbIi']\n",
      "Added video to playlist: {'kind': 'youtube#playlistItem', 'etag': 'lk2_KXqU46ldCQBTMJMT-Pdp1Qk', 'id': 'UExQNjQxQmY4UXhiVmRTZDNxUUdTZVBJeDFIQ2hwbWZtUS5DQUNERDQ2NkIzRUQxNTY1', 'snippet': {'publishedAt': '2024-02-04T18:52:19Z', 'channelId': 'UCPUzd2HrXUPQGjt3VYvhwLw', 'title': 'kai interplay3', 'description': '', 'thumbnails': {'default': {'url': 'https://i.ytimg.com/vi/n8IiMSXqIAo/default.jpg', 'width': 120, 'height': 90}, 'medium': {'url': 'https://i.ytimg.com/vi/n8IiMSXqIAo/mqdefault.jpg', 'width': 320, 'height': 180}, 'high': {'url': 'https://i.ytimg.com/vi/n8IiMSXqIAo/hqdefault.jpg', 'width': 480, 'height': 360}, 'standard': {'url': 'https://i.ytimg.com/vi/n8IiMSXqIAo/sddefault.jpg', 'width': 640, 'height': 480}, 'maxres': {'url': 'https://i.ytimg.com/vi/n8IiMSXqIAo/maxresdefault.jpg', 'width': 1280, 'height': 720}}, 'channelTitle': 'JoseH', 'playlistId': 'PLP641Bf8QxbVdSd3qQGSePIx1HChpmfmQ', 'position': 0, 'resourceId': {'kind': 'youtube#video', 'videoId': 'n8IiMSXqIAo'}, 'videoOwnerChannelTitle': 'JoseH', 'videoOwnerChannelId': 'UCPUzd2HrXUPQGjt3VYvhwLw'}}\n"
     ]
    },
    {
     "ename": "KeyboardInterrupt",
     "evalue": "",
     "output_type": "error",
     "traceback": [
      "\u001b[1;31m---------------------------------------------------------------------------\u001b[0m",
      "\u001b[1;31mKeyboardInterrupt\u001b[0m                         Traceback (most recent call last)",
      "Cell \u001b[1;32mIn[5], line 39\u001b[0m\n\u001b[0;32m     36\u001b[0m             debug\u001b[38;5;241m.\u001b[39madd_record(\u001b[38;5;28mlist\u001b[39m(record\u001b[38;5;241m.\u001b[39mvalues()))\n\u001b[0;32m     37\u001b[0m     requests\u001b[38;5;241m.\u001b[39mdelete_all_records()\n\u001b[1;32m---> 39\u001b[0m time\u001b[38;5;241m.\u001b[39msleep(\u001b[38;5;241m10\u001b[39m) \u001b[38;5;66;03m# Sleep for 3 seconds\u001b[39;00m\n",
      "\u001b[1;31mKeyboardInterrupt\u001b[0m: "
     ]
    }
   ],
   "source": [
    "youtude_interplay = [\"https://www.youtube.com/watch?v=owu16UvLqGo\",\n",
    "                     \"https://www.youtube.com/watch?v=n8IiMSXqIAo\",\n",
    "                     \"https://www.youtube.com/watch?v=lNgH9b4xq0c\" ]\n",
    "\n",
    "while True:\n",
    "    auth_users    = SheetAuthorizedUsersManager(service_account_file).get_usernames()\n",
    "    auth_singers  = SheetAuthorizedUsersManager(service_account_file).get_singers()\n",
    "    users2singers = dict(list(zip(auth_users,auth_singers)))\n",
    "\n",
    "    records = requests.read_records();\n",
    "    if len(records)>0:\n",
    "        for record in requests.read_records():\n",
    "            #Validate user\n",
    "            current_user = str(record['Usuario']).lower()\n",
    "            if current_user in auth_users: #We validate proper user\n",
    "                current_link = record['Link de Youtube']\n",
    "                if youtube_manager.is_valid_youtube_link(current_link):\n",
    "                    send_youtube =True                        \n",
    "                    queue_record = [record[\"Marca temporal\"],\n",
    "                                    users2singers[current_user],\n",
    "                                    record['Autor/Anime'],\n",
    "                                    record['Titulo'],record['Link de Youtube']]\n",
    "                    print(queue_record)\n",
    "                    try:\n",
    "                        queue.add_record(queue_record)\n",
    "                    except:\n",
    "                        debug.add_record(list(record.values()))\n",
    "                        send_youtube =False                        \n",
    "                    if send_youtube:\n",
    "                        choice= random.randint(0,2)\n",
    "                        youtube_manager.add_video_to_playlist(youtude_interplay[choice], playlist_id)\n",
    "                        youtube_manager.add_video_to_playlist(current_link, playlist_id)                    \n",
    "                else:\n",
    "                    debug.add_record(list(record.values()))            \n",
    "            else:\n",
    "                debug.add_record(list(record.values()))\n",
    "        requests.delete_all_records()\n",
    "        \n",
    "    time.sleep(10) # Sleep for 3 seconds\n"
   ]
  },
  {
   "cell_type": "code",
   "execution_count": null,
   "metadata": {},
   "outputs": [
    {
     "ename": "HttpError",
     "evalue": "<HttpError 400 when requesting https://youtube.googleapis.com/youtube/v3/playlistItems?part=snippet&alt=json returned \"Playlist should use manual sorting to support position.\". Details: \"[{'message': 'Playlist should use manual sorting to support position.', 'domain': 'youtube.playlistItem', 'reason': 'manualSortRequired'}]\">",
     "output_type": "error",
     "traceback": [
      "\u001b[1;31m---------------------------------------------------------------------------\u001b[0m",
      "\u001b[1;31mHttpError\u001b[0m                                 Traceback (most recent call last)",
      "Cell \u001b[1;32mIn[22], line 1\u001b[0m\n\u001b[1;32m----> 1\u001b[0m \u001b[43myoutube_manager\u001b[49m\u001b[38;5;241;43m.\u001b[39;49m\u001b[43madd_video_to_playlist\u001b[49m\u001b[43m(\u001b[49m\u001b[43myoutude_interplay\u001b[49m\u001b[43m[\u001b[49m\u001b[38;5;241;43m0\u001b[39;49m\u001b[43m]\u001b[49m\u001b[43m,\u001b[49m\u001b[43m \u001b[49m\u001b[43mplaylist_id\u001b[49m\u001b[43m)\u001b[49m\n",
      "File \u001b[1;32mc:\\Users\\adame\\Documents\\bcn_karaparty\\lib\\youtube_handler.py:89\u001b[0m, in \u001b[0;36mYouTubeManager.add_video_to_playlist\u001b[1;34m(self, video_url, playlist_id)\u001b[0m\n\u001b[0;32m     74\u001b[0m request_body \u001b[38;5;241m=\u001b[39m {\n\u001b[0;32m     75\u001b[0m     \u001b[38;5;124m'\u001b[39m\u001b[38;5;124msnippet\u001b[39m\u001b[38;5;124m'\u001b[39m: {\n\u001b[0;32m     76\u001b[0m         \u001b[38;5;124m'\u001b[39m\u001b[38;5;124mplaylistId\u001b[39m\u001b[38;5;124m'\u001b[39m: playlist_id,\n\u001b[1;32m   (...)\u001b[0m\n\u001b[0;32m     82\u001b[0m         }\n\u001b[0;32m     83\u001b[0m     }\n\u001b[0;32m     85\u001b[0m request \u001b[38;5;241m=\u001b[39m \u001b[38;5;28mself\u001b[39m\u001b[38;5;241m.\u001b[39myoutube\u001b[38;5;241m.\u001b[39mplaylistItems()\u001b[38;5;241m.\u001b[39minsert(\n\u001b[0;32m     86\u001b[0m     part\u001b[38;5;241m=\u001b[39m\u001b[38;5;124m\"\u001b[39m\u001b[38;5;124msnippet\u001b[39m\u001b[38;5;124m\"\u001b[39m,\n\u001b[0;32m     87\u001b[0m     body\u001b[38;5;241m=\u001b[39mrequest_body\n\u001b[0;32m     88\u001b[0m )\n\u001b[1;32m---> 89\u001b[0m response \u001b[38;5;241m=\u001b[39m \u001b[43mrequest\u001b[49m\u001b[38;5;241;43m.\u001b[39;49m\u001b[43mexecute\u001b[49m\u001b[43m(\u001b[49m\u001b[43m)\u001b[49m\n\u001b[0;32m     90\u001b[0m \u001b[38;5;28mprint\u001b[39m(\u001b[38;5;124mf\u001b[39m\u001b[38;5;124m\"\u001b[39m\u001b[38;5;124mAdded video to playlist: \u001b[39m\u001b[38;5;132;01m{\u001b[39;00mresponse\u001b[38;5;132;01m}\u001b[39;00m\u001b[38;5;124m\"\u001b[39m)\n\u001b[0;32m     91\u001b[0m \u001b[38;5;28;01mreturn\u001b[39;00m response\n",
      "File \u001b[1;32mc:\\Users\\adame\\Documents\\bcn_karaparty\\.conda\\Lib\\site-packages\\googleapiclient\\_helpers.py:130\u001b[0m, in \u001b[0;36mpositional.<locals>.positional_decorator.<locals>.positional_wrapper\u001b[1;34m(*args, **kwargs)\u001b[0m\n\u001b[0;32m    128\u001b[0m     \u001b[38;5;28;01melif\u001b[39;00m positional_parameters_enforcement \u001b[38;5;241m==\u001b[39m POSITIONAL_WARNING:\n\u001b[0;32m    129\u001b[0m         logger\u001b[38;5;241m.\u001b[39mwarning(message)\n\u001b[1;32m--> 130\u001b[0m \u001b[38;5;28;01mreturn\u001b[39;00m \u001b[43mwrapped\u001b[49m\u001b[43m(\u001b[49m\u001b[38;5;241;43m*\u001b[39;49m\u001b[43margs\u001b[49m\u001b[43m,\u001b[49m\u001b[43m \u001b[49m\u001b[38;5;241;43m*\u001b[39;49m\u001b[38;5;241;43m*\u001b[39;49m\u001b[43mkwargs\u001b[49m\u001b[43m)\u001b[49m\n",
      "File \u001b[1;32mc:\\Users\\adame\\Documents\\bcn_karaparty\\.conda\\Lib\\site-packages\\googleapiclient\\http.py:938\u001b[0m, in \u001b[0;36mHttpRequest.execute\u001b[1;34m(self, http, num_retries)\u001b[0m\n\u001b[0;32m    936\u001b[0m     callback(resp)\n\u001b[0;32m    937\u001b[0m \u001b[38;5;28;01mif\u001b[39;00m resp\u001b[38;5;241m.\u001b[39mstatus \u001b[38;5;241m>\u001b[39m\u001b[38;5;241m=\u001b[39m \u001b[38;5;241m300\u001b[39m:\n\u001b[1;32m--> 938\u001b[0m     \u001b[38;5;28;01mraise\u001b[39;00m HttpError(resp, content, uri\u001b[38;5;241m=\u001b[39m\u001b[38;5;28mself\u001b[39m\u001b[38;5;241m.\u001b[39muri)\n\u001b[0;32m    939\u001b[0m \u001b[38;5;28;01mreturn\u001b[39;00m \u001b[38;5;28mself\u001b[39m\u001b[38;5;241m.\u001b[39mpostproc(resp, content)\n",
      "\u001b[1;31mHttpError\u001b[0m: <HttpError 400 when requesting https://youtube.googleapis.com/youtube/v3/playlistItems?part=snippet&alt=json returned \"Playlist should use manual sorting to support position.\". Details: \"[{'message': 'Playlist should use manual sorting to support position.', 'domain': 'youtube.playlistItem', 'reason': 'manualSortRequired'}]\">"
     ]
    }
   ],
   "source": [
    "youtube_manager.add_video_to_playlist(youtude_interplay[0], playlist_id)\n",
    "                        "
   ]
  },
  {
   "cell_type": "code",
   "execution_count": null,
   "metadata": {},
   "outputs": [],
   "source": []
  }
 ],
 "metadata": {
  "kernelspec": {
   "display_name": "Python 3",
   "language": "python",
   "name": "python3"
  },
  "language_info": {
   "codemirror_mode": {
    "name": "ipython",
    "version": 3
   },
   "file_extension": ".py",
   "mimetype": "text/x-python",
   "name": "python",
   "nbconvert_exporter": "python",
   "pygments_lexer": "ipython3",
   "version": "3.11.7"
  }
 },
 "nbformat": 4,
 "nbformat_minor": 2
}
